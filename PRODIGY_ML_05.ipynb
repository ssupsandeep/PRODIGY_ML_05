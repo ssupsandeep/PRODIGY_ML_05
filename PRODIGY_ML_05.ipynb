{
  "nbformat": 4,
  "nbformat_minor": 0,
  "metadata": {
    "colab": {
      "provenance": [],
      "authorship_tag": "ABX9TyOEagac5GKMzoxJZkcQHWfp",
      "include_colab_link": true
    },
    "kernelspec": {
      "name": "python3",
      "display_name": "Python 3"
    },
    "language_info": {
      "name": "python"
    }
  },
  "cells": [
    {
      "cell_type": "markdown",
      "metadata": {
        "id": "view-in-github",
        "colab_type": "text"
      },
      "source": [
        "<a href=\"https://colab.research.google.com/github/ssupsandeep/PRODIGY_ML_05/blob/main/PRODIGY_ML_05.ipynb\" target=\"_parent\"><img src=\"https://colab.research.google.com/assets/colab-badge.svg\" alt=\"Open In Colab\"/></a>"
      ]
    },
    {
      "cell_type": "code",
      "execution_count": 1,
      "metadata": {
        "colab": {
          "base_uri": "https://localhost:8080/"
        },
        "id": "lFzKrKw_uj9S",
        "outputId": "8213200d-718c-49e5-e4b1-7c8365665af2"
      },
      "outputs": [
        {
          "output_type": "stream",
          "name": "stdout",
          "text": [
            "Food: Apple, Estimated Calories: 52 kcal\n",
            "Food: Banana, Estimated Calories: 89 kcal\n",
            "Food: Burger, Estimated Calories: 295 kcal\n",
            "Food: Pizza, Estimated Calories: 266 kcal\n",
            "Food: Salad, Estimated Calories: 35 kcal\n",
            "Food: Pasta, Estimated Calories: 131 kcal\n",
            "Food: Rice, Estimated Calories: 130 kcal\n",
            "Food: Steak, Estimated Calories: 271 kcal\n",
            "Food: Fries, Estimated Calories: 312 kcal\n",
            "Food: Ice Cream, Estimated Calories: 207 kcal\n"
          ]
        }
      ],
      "source": [
        "import os\n",
        "import cv2\n",
        "import numpy as np\n",
        "import pandas as pd\n",
        "import tensorflow as tf\n",
        "import matplotlib.pyplot as plt\n",
        "from tensorflow.keras.models import Sequential\n",
        "from tensorflow.keras.layers import Dense, Flatten, Conv2D, MaxPooling2D, Dropout\n",
        "from tensorflow.keras.preprocessing.image import ImageDataGenerator\n",
        "from tensorflow.keras.applications import VGG16\n",
        "\n",
        "# Define dataset with food names and estimated calorie content\n",
        "food_calories = {\n",
        "    \"Apple\": 52,\n",
        "    \"Banana\": 89,\n",
        "    \"Burger\": 295,\n",
        "    \"Pizza\": 266,\n",
        "    \"Salad\": 35,\n",
        "    \"Pasta\": 131,\n",
        "    \"Rice\": 130,\n",
        "    \"Steak\": 271,\n",
        "    \"Fries\": 312,\n",
        "    \"Ice Cream\": 207\n",
        "}\n",
        "\n",
        "# Function to get food calorie information\n",
        "def get_food_info(food_name):\n",
        "    calories = food_calories.get(food_name, \"Unknown\")\n",
        "    return f\"Food: {food_name}, Estimated Calories: {calories} kcal\"\n",
        "\n",
        "# Example usage\n",
        "for food in food_calories.keys():\n",
        "    print(get_food_info(food))\n"
      ]
    }
  ]
}